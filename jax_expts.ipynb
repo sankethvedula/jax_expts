{
 "cells": [
  {
   "cell_type": "code",
   "execution_count": 3,
   "metadata": {
    "collapsed": true
   },
   "outputs": [],
   "source": [
    "import jax.numpy as np\n",
    "from jax import grad\n",
    "from jax import jacfwd\n",
    "\n",
    "from numpy import nanargmax, nanmin"
   ]
  },
  {
   "cell_type": "markdown",
   "source": [
    "Let's define a function, the gradient function and get its gradients at some point"
   ],
   "metadata": {
    "collapsed": false,
    "pycharm": {
     "name": "#%% md\n"
    }
   }
  },
  {
   "cell_type": "code",
   "source": [
    "# Note: the function written below is a\n",
    "# vector valued function, so the gradient\n",
    "# so we can't calculate it's gradient, however\n",
    "# we can get it's jacobian\n",
    "def test_vec(x):\n",
    "    return x**2\n",
    "\n",
    "def test_scal(x):\n",
    "    return x[0]**2\n",
    "\n",
    "# testing the grads of scal valued function\n",
    "# at 0.0 it should be 0.0 and at 1.0 it should be 2.0\n",
    "grad_test_scal = grad(test_scal)\n",
    "grad_test_scal(np.array([1.0]))\n",
    "\n",
    "# now let's test its jacobian\n",
    "jac_test_vec = jacfwd(test_vec)\n",
    "jac_test_vec(np.array([0.0, 1.0]))"
   ],
   "metadata": {
    "collapsed": false,
    "pycharm": {
     "name": "#%%\n"
    }
   },
   "execution_count": 13,
   "outputs": [
    {
     "data": {
      "text/plain": "DeviceArray([[0., 0.],\n             [0., 2.]], dtype=float32)"
     },
     "execution_count": 13,
     "metadata": {},
     "output_type": "execute_result"
    }
   ]
  },
  {
   "cell_type": "markdown",
   "source": [
    "In the sequel we'll explore more functionalities\n",
    "of JAX -- deriving Hessians, and how to solve some\n",
    "simple optimization problems using this"
   ],
   "metadata": {
    "collapsed": false,
    "pycharm": {
     "name": "#%% md\n"
    }
   }
  }
 ],
 "metadata": {
  "kernelspec": {
   "display_name": "Python 3",
   "language": "python",
   "name": "python3"
  },
  "language_info": {
   "codemirror_mode": {
    "name": "ipython",
    "version": 2
   },
   "file_extension": ".py",
   "mimetype": "text/x-python",
   "name": "python",
   "nbconvert_exporter": "python",
   "pygments_lexer": "ipython2",
   "version": "2.7.6"
  }
 },
 "nbformat": 4,
 "nbformat_minor": 0
}